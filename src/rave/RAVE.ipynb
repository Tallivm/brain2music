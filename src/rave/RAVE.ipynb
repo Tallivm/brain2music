{
 "cells": [
  {
   "cell_type": "code",
   "execution_count": null,
   "id": "2e4bad11",
   "metadata": {},
   "outputs": [],
   "source": [
    "# https://github.com/acids-ircam/RAVE/discussions/208\n",
    "# pre-rained model availables, to be placed in folder models : https://acids-ircam.github.io/rave_models_download"
   ]
  },
  {
   "cell_type": "code",
   "execution_count": 8,
   "id": "d4b0c776",
   "metadata": {},
   "outputs": [],
   "source": [
    "import torch\n",
    "import librosa as li\n",
    "import soundfile as sf\n",
    "\n",
    "torch.set_grad_enabled(False)\n",
    "\n",
    "model = torch.jit.load(\"models/darbouka_onnx.ts\").eval()\n",
    "# other models : nasa.ts, vintage.ts\n",
    "\n",
    "x = li.load(\"data/some_audio.wav\")[0]\n",
    "\n",
    "x = torch.from_numpy(x).reshape(1,1,-1)\n",
    "z = model.encode(x)\n",
    "\n",
    "z[:, 0] += torch.linspace(-2,2,z.shape[-1])\n",
    "\n",
    "y = model.decode(z).numpy().reshape(-1)\n",
    "\n",
    "sf.write(\"data/model_output.wav\", y, 44100)"
   ]
  },
  {
   "cell_type": "code",
   "execution_count": null,
   "id": "405381e9",
   "metadata": {},
   "outputs": [],
   "source": []
  }
 ],
 "metadata": {
  "kernelspec": {
   "display_name": "Python 3 (ipykernel)",
   "language": "python",
   "name": "python3"
  },
  "language_info": {
   "codemirror_mode": {
    "name": "ipython",
    "version": 3
   },
   "file_extension": ".py",
   "mimetype": "text/x-python",
   "name": "python",
   "nbconvert_exporter": "python",
   "pygments_lexer": "ipython3",
   "version": "3.9.7"
  }
 },
 "nbformat": 4,
 "nbformat_minor": 5
}
